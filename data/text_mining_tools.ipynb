{
 "cells": [
  {
   "cell_type": "markdown",
   "metadata": {},
   "source": [
    "# Analysis of text mining tools\n",
    "\n",
    "- tools over time\n",
    "- gender diversity and charge to researchers\n",
    "- common techniques"
   ]
  },
  {
   "cell_type": "code",
   "execution_count": null,
   "metadata": {},
   "outputs": [],
   "source": [
    "import pandas as pd\n",
    "import matplotlib.pyplot as plt\n",
    "from wordcloud import WordCloud\n",
    "\n",
    "\n",
    "#read file and remove the unnamed first column\n",
    "text_mining_df = pd.read_csv('text_mining.csv', index_col=0)"
   ]
  },
  {
   "cell_type": "markdown",
   "metadata": {},
   "source": [
    "## Diversity in leadership teams"
   ]
  },
  {
   "cell_type": "code",
   "execution_count": null,
   "metadata": {},
   "outputs": [],
   "source": [
    "#recompute yearly total only for this cluster\n",
    "text_mining_df.year_founded = pd.to_datetime(text_mining_df.year_founded, format='%Y', errors='ignore')\n",
    "text_mining_df['yearly_total'] = text_mining_df.groupby('year_founded')[\"name\"].transform('count')\n",
    "\n",
    "#compute yearly total where women in leadership\n",
    "text_mining_df['women'] = text_mining_df.key_person_gender.str.contains(\"W\")\n",
    "text_mining_df['women_total'] = text_mining_df.groupby('year_founded')[\"women\"].transform('sum')"
   ]
  },
  {
   "cell_type": "code",
   "execution_count": null,
   "metadata": {},
   "outputs": [],
   "source": [
    "plt.figure(figsize=(20,5))\n",
    "plt.bar(text_mining_df.year_founded.dt.year, text_mining_df.yearly_total, label='New tools launched per year')\n",
    "plt.axis([1960, 2020, 0, 7])\n",
    "\n",
    "plt.title('Fig 1. Number of text mining tools launched per year', fontdict={'fontweight':'bold', 'fontsize': 18})\n",
    "plt.xlabel('Year')\n",
    "plt.ylabel('Tools per year')\n",
    "\n",
    "\n",
    "plt.bar(text_mining_df.year_founded.dt.year, text_mining_df.women_total, label='Women in leadership team')\n",
    "\n",
    "plt.legend(loc='upper left')\n",
    "\n",
    "plt.show()\n",
    "#plt.savefig('Text_mining_per_year_and_diversity.png', dpi=300)"
   ]
  },
  {
   "cell_type": "markdown",
   "metadata": {},
   "source": [
    "## Charges to researchers"
   ]
  },
  {
   "cell_type": "code",
   "execution_count": null,
   "metadata": {},
   "outputs": [],
   "source": [
    "#using pivot table\n",
    "pivot = text_mining_df.pivot_table(values='name', index='year_founded', columns='charges_academic', aggfunc='count', fill_value=0)\n",
    "\n",
    "#get running totals\n",
    "pivot_totals = pivot.cumsum(axis=0)\n",
    "pivot_totals['all'] = pivot_totals.sum(axis=1)\n",
    "#pivot_totals.plot()"
   ]
  },
  {
   "cell_type": "code",
   "execution_count": null,
   "metadata": {},
   "outputs": [],
   "source": [
    "#plotting with matplotlib in order to keep the years to scale rather than keep year_founded as categorical\n",
    "\n",
    "fig, ax1 = plt.subplots(figsize=(20, 7))\n",
    "\n",
    "ax1.bar(pivot.index, pivot['Free'], label='Free')\n",
    "ax1.bar(pivot.index, pivot['Paid'], bottom=pivot['Free'], label='Paid')\n",
    "ax1.bar(pivot.index, pivot['Limited free'], bottom=[x+y for x,y in zip(pivot['Free'],pivot['Paid'])], label='Limited free')\n",
    "ax1.bar(pivot.index, pivot['in Beta'], bottom=[x+y+z for x,y,z in zip(pivot['Free'],pivot['Paid'],pivot['Limited free'])], label='in Beta')\n",
    "\n",
    "ax2 = ax1.twinx()\n",
    "\n",
    "ax2.plot(pivot_totals['all'], label='Running total', linewidth=3.0, c='k')\n",
    "ax2.plot(pivot_totals['Free'], label='Cumulative free')\n",
    "\n",
    "ax1.set_xlabel('Year')\n",
    "ax1.set_ylabel('Tools per year')\n",
    "ax2.set_ylabel('Running total of tools')\n",
    "\n",
    "ax1.set_ylim(0,8)\n",
    "ax2.set_ylim(0,90)\n",
    "\n",
    "\n",
    "lines1, labels1 = ax1.get_legend_handles_labels()\n",
    "lines2, labels2 = ax2.get_legend_handles_labels()\n",
    "ax2.legend(lines1 + lines2, labels1 + labels2, loc=0)\n",
    "\n",
    "plt.title('Fig 2. Number of text mining tools launched per year by charge to researcher', fontdict={'fontweight':'bold', 'fontsize': 18})\n",
    "plt.show()\n",
    "\n",
    "#plt.savefig('Text_mining_per_year_and_charge.png', dpi=300)"
   ]
  },
  {
   "cell_type": "markdown",
   "metadata": {},
   "source": [
    "## Most common text mining techniques"
   ]
  },
  {
   "cell_type": "code",
   "execution_count": null,
   "metadata": {},
   "outputs": [],
   "source": [
    "text_mining_df['technique'] = text_mining_df['technique'].str.lower()\n",
    "\n",
    "wordcloud = WordCloud(\n",
    "    width = 1000, \n",
    "    height = 500, \n",
    "    background_color = 'white').generate(', '.join(text_mining_df['technique']))\n",
    "\n",
    "fig = plt.figure(\n",
    "    figsize = (10, 5),\n",
    "    facecolor = 'w',\n",
    "    edgecolor = 'k')\n",
    "\n",
    "plt.title('Fig 3. Most common techniques for text mining tools', fontdict={'fontweight':'bold', 'fontsize': 18})\n",
    "plt.imshow(wordcloud)\n",
    "plt.axis(\"off\")\n",
    "plt.show()\n",
    "\n",
    "#plt.savefig('Text_mining_techniques.png', dpi=300)\n",
    "\n"
   ]
  }
 ],
 "metadata": {
  "kernelspec": {
   "display_name": "Python 3",
   "language": "python",
   "name": "python3"
  },
  "language_info": {
   "codemirror_mode": {
    "name": "ipython",
    "version": 3
   },
   "file_extension": ".py",
   "mimetype": "text/x-python",
   "name": "python",
   "nbconvert_exporter": "python",
   "pygments_lexer": "ipython3",
   "version": "3.7.6"
  }
 },
 "nbformat": 4,
 "nbformat_minor": 4
}
